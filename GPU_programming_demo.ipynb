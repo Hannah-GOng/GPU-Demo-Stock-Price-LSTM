{
  "nbformat": 4,
  "nbformat_minor": 0,
  "metadata": {
    "colab": {
      "name": "GPU-programming-demo",
      "provenance": [],
      "authorship_tag": "ABX9TyMOkdUvE1Lu8MIiF1PYkQjS",
      "include_colab_link": true
    },
    "kernelspec": {
      "name": "python3",
      "display_name": "Python 3"
    }
  },
  "cells": [
    {
      "cell_type": "markdown",
      "metadata": {
        "id": "view-in-github",
        "colab_type": "text"
      },
      "source": [
        "<a href=\"https://colab.research.google.com/github/Hannah-GOng/GPU-Demo-Stock-Price-LSTM/blob/main/GPU_programming_demo.ipynb\" target=\"_parent\"><img src=\"https://colab.research.google.com/assets/colab-badge.svg\" alt=\"Open In Colab\"/></a>"
      ]
    },
    {
      "cell_type": "code",
      "metadata": {
        "id": "MIAFyXdk9cp8",
        "outputId": "b2bbde78-0d52-41cd-83d1-a3ea6b441df5",
        "colab": {
          "base_uri": "https://localhost:8080/",
          "height": 153
        }
      },
      "source": [
        "!pip install numba\n",
        "!find / -iname 'libdevice'\n",
        "!find / -iname 'libnvvm.so'"
      ],
      "execution_count": 18,
      "outputs": [
        {
          "output_type": "stream",
          "text": [
            "Requirement already satisfied: numba in /usr/local/lib/python3.6/dist-packages (0.48.0)\n",
            "Requirement already satisfied: setuptools in /usr/local/lib/python3.6/dist-packages (from numba) (50.3.0)\n",
            "Requirement already satisfied: llvmlite<0.32.0,>=0.31.0dev0 in /usr/local/lib/python3.6/dist-packages (from numba) (0.31.0)\n",
            "Requirement already satisfied: numpy>=1.15 in /usr/local/lib/python3.6/dist-packages (from numba) (1.18.5)\n",
            "/usr/local/cuda-10.0/nvvm/libdevice\n",
            "/usr/local/cuda-10.1/nvvm/libdevice\n",
            "/usr/local/cuda-10.0/nvvm/lib64/libnvvm.so\n",
            "/usr/local/cuda-10.1/nvvm/lib64/libnvvm.so\n"
          ],
          "name": "stdout"
        }
      ]
    },
    {
      "cell_type": "code",
      "metadata": {
        "id": "3OBmSnIqlKVU"
      },
      "source": [
        "import numpy as np\n",
        "from numba import jit, njit, vectorize, cuda, uint32, f8, uint8\n",
        "from timeit import default_timer as timer\n",
        "import random\n"
      ],
      "execution_count": 19,
      "outputs": []
    },
    {
      "cell_type": "code",
      "metadata": {
        "id": "C-Sk7UXclNwj"
      },
      "source": [
        "\"\"\"\n",
        "BubbleSort\n",
        "\"\"\"\n",
        "@jit(nopython = True)\n",
        "def BubbleSort_jit(listToSort):\n",
        "    n = len(listToSort)\n",
        "    for i in range(0, n):\n",
        "        for j in range(0, n-i-1):\n",
        "            if listToSort[j] > listToSort [j+1]:\n",
        "                smaller = listToSort [j+1]\n",
        "                listToSort[j+1] = listToSort[j]\n",
        "                listToSort[j] = smaller\n",
        "\n",
        "    return listToSort"
      ],
      "execution_count": 25,
      "outputs": []
    },
    {
      "cell_type": "code",
      "metadata": {
        "id": "HDgg6TeNl5XG",
        "outputId": "7ca1e126-b2df-416b-b906-e50f15abf381",
        "colab": {
          "base_uri": "https://localhost:8080/",
          "height": 34
        }
      },
      "source": [
        "start = timer()\n",
        "BubbleSort_jit([random.random() for x in range(0,2**6-1)])\n",
        "dt = timer() - start\n",
        "print(\"Sortedlist created in %f s\" % dt)\n"
      ],
      "execution_count": 27,
      "outputs": [
        {
          "output_type": "stream",
          "text": [
            "Sortedlist created in 0.000247 s\n"
          ],
          "name": "stdout"
        }
      ]
    },
    {
      "cell_type": "code",
      "metadata": {
        "id": "LRfwnx-vnJSN"
      },
      "source": [
        "def BubbleSort(listToSort):\n",
        "    n = len(listToSort)\n",
        "    for i in range(0, n):\n",
        "        for j in range(0, n-i-1):\n",
        "            if listToSort[j] > listToSort [j+1]:\n",
        "                smaller = listToSort [j+1]\n",
        "                listToSort[j+1] = listToSort[j]\n",
        "                listToSort[j] = smaller\n",
        "\n",
        "    return listToSort"
      ],
      "execution_count": 28,
      "outputs": []
    },
    {
      "cell_type": "code",
      "metadata": {
        "id": "EWyi3SQVnWQi",
        "outputId": "225f7d71-d7cf-44cd-b5f4-141fadf4ae01",
        "colab": {
          "base_uri": "https://localhost:8080/",
          "height": 34
        }
      },
      "source": [
        "start = timer()\n",
        "BubbleSort([random.random() for x in range(0,2**6-1)])\n",
        "dt = timer() - start\n",
        "print(\"Sortedlist created in %f s\" % dt)"
      ],
      "execution_count": 24,
      "outputs": [
        {
          "output_type": "stream",
          "text": [
            "Sortedlist created in 0.000354 s\n"
          ],
          "name": "stdout"
        }
      ]
    }
  ]
}