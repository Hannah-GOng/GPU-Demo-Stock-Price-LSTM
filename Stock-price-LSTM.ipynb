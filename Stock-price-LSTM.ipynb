{
  "nbformat": 4,
  "nbformat_minor": 0,
  "metadata": {
    "colab": {
      "name": "GPU-Programming.ipynb",
      "provenance": [],
      "collapsed_sections": [],
      "authorship_tag": "ABX9TyNAzeGBzAgqLNv1iNvaG1at",
      "include_colab_link": true
    },
    "kernelspec": {
      "name": "python3",
      "display_name": "Python 3"
    }
  },
  "cells": [
    {
      "cell_type": "markdown",
      "metadata": {
        "id": "view-in-github",
        "colab_type": "text"
      },
      "source": [
        "<a href=\"https://colab.research.google.com/github/Hannah-GOng/GPU-Demo-Stock-Price-LSTM/blob/main/GPU_Programming.ipynb\" target=\"_parent\"><img src=\"https://colab.research.google.com/assets/colab-badge.svg\" alt=\"Open In Colab\"/></a>"
      ]
    },
    {
      "cell_type": "markdown",
      "metadata": {
        "id": "n1I3FzFdRK2E"
      },
      "source": [
        "\n",
        "\n",
        "## **GPU Demos**\n",
        "\n",
        "\n"
      ]
    },
    {
      "cell_type": "code",
      "metadata": {
        "id": "HqkW7vWGRdGF"
      },
      "source": [
        "import pandas as pd\n",
        "import numpy as np\n",
        "\n",
        "import matplotlib.pyplot as plt\n",
        "import seaborn as sns\n",
        "sns.set_style('whitegrid')\n",
        "plt.style.use(\"fivethirtyeight\")\n",
        "%matplotlib inline\n",
        "\n",
        "# For reading stock data from yahoo\n",
        "from pandas_datareader.data import DataReader\n",
        "\n",
        "# For time stamps\n",
        "from datetime import datetime"
      ],
      "execution_count": 1,
      "outputs": []
    },
    {
      "cell_type": "code",
      "metadata": {
        "id": "5dVg_LVdSjqr"
      },
      "source": [
        "# The tech stocks we'll use\n",
        "tech_list = ['AAPL', 'GOOG', 'MSFT', 'AMZN']\n",
        "\n",
        "# Set up End and Start times for data grab\n",
        "end = datetime.now()\n",
        "start = datetime(end.year - 5, end.month, end.day)\n",
        "\n",
        "#For loop for grabing yahoo finance data and setting as a dataframe\n",
        "for stock in tech_list:   \n",
        "    \n",
        "    globals()[stock] = DataReader(stock, 'yahoo', start, end)"
      ],
      "execution_count": 2,
      "outputs": []
    },
    {
      "cell_type": "code",
      "metadata": {
        "id": "NZ7iUc4hSzFr",
        "outputId": "96105c6a-fd5d-4ea7-d147-e60ea27da987",
        "colab": {
          "base_uri": "https://localhost:8080/",
          "height": 390
        }
      },
      "source": [
        "company_list = [AAPL, GOOG, MSFT, AMZN]\n",
        "company_name = [\"APPLE\", \"GOOGLE\", \"MICROSOFT\", \"AMAZON\"]\n",
        "\n",
        "for company, com_name in zip(company_list, company_name):\n",
        "    company[\"company_name\"] = com_name\n",
        "    \n",
        "df = pd.concat(company_list, axis=0)\n",
        "df.tail(10)"
      ],
      "execution_count": 3,
      "outputs": [
        {
          "output_type": "execute_result",
          "data": {
            "text/html": [
              "<div>\n",
              "<style scoped>\n",
              "    .dataframe tbody tr th:only-of-type {\n",
              "        vertical-align: middle;\n",
              "    }\n",
              "\n",
              "    .dataframe tbody tr th {\n",
              "        vertical-align: top;\n",
              "    }\n",
              "\n",
              "    .dataframe thead th {\n",
              "        text-align: right;\n",
              "    }\n",
              "</style>\n",
              "<table border=\"1\" class=\"dataframe\">\n",
              "  <thead>\n",
              "    <tr style=\"text-align: right;\">\n",
              "      <th></th>\n",
              "      <th>High</th>\n",
              "      <th>Low</th>\n",
              "      <th>Open</th>\n",
              "      <th>Close</th>\n",
              "      <th>Volume</th>\n",
              "      <th>Adj Close</th>\n",
              "      <th>company_name</th>\n",
              "    </tr>\n",
              "    <tr>\n",
              "      <th>Date</th>\n",
              "      <th></th>\n",
              "      <th></th>\n",
              "      <th></th>\n",
              "      <th></th>\n",
              "      <th></th>\n",
              "      <th></th>\n",
              "      <th></th>\n",
              "    </tr>\n",
              "  </thead>\n",
              "  <tbody>\n",
              "    <tr>\n",
              "      <th>2020-10-12</th>\n",
              "      <td>3496.239990</td>\n",
              "      <td>3339.550049</td>\n",
              "      <td>3349.939941</td>\n",
              "      <td>3442.929932</td>\n",
              "      <td>8364200.0</td>\n",
              "      <td>3442.929932</td>\n",
              "      <td>AMAZON</td>\n",
              "    </tr>\n",
              "    <tr>\n",
              "      <th>2020-10-13</th>\n",
              "      <td>3492.379883</td>\n",
              "      <td>3424.219971</td>\n",
              "      <td>3467.989990</td>\n",
              "      <td>3443.629883</td>\n",
              "      <td>5744700.0</td>\n",
              "      <td>3443.629883</td>\n",
              "      <td>AMAZON</td>\n",
              "    </tr>\n",
              "    <tr>\n",
              "      <th>2020-10-14</th>\n",
              "      <td>3464.879883</td>\n",
              "      <td>3340.000000</td>\n",
              "      <td>3447.000000</td>\n",
              "      <td>3363.709961</td>\n",
              "      <td>5828900.0</td>\n",
              "      <td>3363.709961</td>\n",
              "      <td>AMAZON</td>\n",
              "    </tr>\n",
              "    <tr>\n",
              "      <th>2020-10-15</th>\n",
              "      <td>3355.879883</td>\n",
              "      <td>3280.000000</td>\n",
              "      <td>3292.010010</td>\n",
              "      <td>3338.649902</td>\n",
              "      <td>5223400.0</td>\n",
              "      <td>3338.649902</td>\n",
              "      <td>AMAZON</td>\n",
              "    </tr>\n",
              "    <tr>\n",
              "      <th>2020-10-16</th>\n",
              "      <td>3399.659912</td>\n",
              "      <td>3160.000000</td>\n",
              "      <td>3363.229980</td>\n",
              "      <td>3272.709961</td>\n",
              "      <td>6474400.0</td>\n",
              "      <td>3272.709961</td>\n",
              "      <td>AMAZON</td>\n",
              "    </tr>\n",
              "    <tr>\n",
              "      <th>2020-10-19</th>\n",
              "      <td>3329.000000</td>\n",
              "      <td>3192.739990</td>\n",
              "      <td>3299.610107</td>\n",
              "      <td>3207.209961</td>\n",
              "      <td>5223600.0</td>\n",
              "      <td>3207.209961</td>\n",
              "      <td>AMAZON</td>\n",
              "    </tr>\n",
              "    <tr>\n",
              "      <th>2020-10-20</th>\n",
              "      <td>3266.000000</td>\n",
              "      <td>3192.010010</td>\n",
              "      <td>3222.280029</td>\n",
              "      <td>3217.010010</td>\n",
              "      <td>4509700.0</td>\n",
              "      <td>3217.010010</td>\n",
              "      <td>AMAZON</td>\n",
              "    </tr>\n",
              "    <tr>\n",
              "      <th>2020-10-21</th>\n",
              "      <td>3233.879883</td>\n",
              "      <td>3160.000000</td>\n",
              "      <td>3212.500000</td>\n",
              "      <td>3184.939941</td>\n",
              "      <td>4592700.0</td>\n",
              "      <td>3184.939941</td>\n",
              "      <td>AMAZON</td>\n",
              "    </tr>\n",
              "    <tr>\n",
              "      <th>2020-10-22</th>\n",
              "      <td>3198.750000</td>\n",
              "      <td>3121.939941</td>\n",
              "      <td>3189.870117</td>\n",
              "      <td>3176.399902</td>\n",
              "      <td>4212000.0</td>\n",
              "      <td>3176.399902</td>\n",
              "      <td>AMAZON</td>\n",
              "    </tr>\n",
              "    <tr>\n",
              "      <th>2020-10-23</th>\n",
              "      <td>3205.330078</td>\n",
              "      <td>3140.000000</td>\n",
              "      <td>3191.000000</td>\n",
              "      <td>3204.399902</td>\n",
              "      <td>3458900.0</td>\n",
              "      <td>3204.399902</td>\n",
              "      <td>AMAZON</td>\n",
              "    </tr>\n",
              "  </tbody>\n",
              "</table>\n",
              "</div>"
            ],
            "text/plain": [
              "                   High          Low  ...    Adj Close  company_name\n",
              "Date                                  ...                           \n",
              "2020-10-12  3496.239990  3339.550049  ...  3442.929932        AMAZON\n",
              "2020-10-13  3492.379883  3424.219971  ...  3443.629883        AMAZON\n",
              "2020-10-14  3464.879883  3340.000000  ...  3363.709961        AMAZON\n",
              "2020-10-15  3355.879883  3280.000000  ...  3338.649902        AMAZON\n",
              "2020-10-16  3399.659912  3160.000000  ...  3272.709961        AMAZON\n",
              "2020-10-19  3329.000000  3192.739990  ...  3207.209961        AMAZON\n",
              "2020-10-20  3266.000000  3192.010010  ...  3217.010010        AMAZON\n",
              "2020-10-21  3233.879883  3160.000000  ...  3184.939941        AMAZON\n",
              "2020-10-22  3198.750000  3121.939941  ...  3176.399902        AMAZON\n",
              "2020-10-23  3205.330078  3140.000000  ...  3204.399902        AMAZON\n",
              "\n",
              "[10 rows x 7 columns]"
            ]
          },
          "metadata": {
            "tags": []
          },
          "execution_count": 3
        }
      ]
    },
    {
      "cell_type": "code",
      "metadata": {
        "id": "nr6gIgVzTQfF",
        "outputId": "e61f89ce-a82b-4a02-b660-abb3db05b68a",
        "colab": {
          "base_uri": "https://localhost:8080/",
          "height": 678
        }
      },
      "source": [
        "# historical view of closing price\n",
        "plt.figure(figsize=(12, 8))\n",
        "plt.subplots_adjust(top=1.25, bottom=1.2)\n",
        "\n",
        "for i, company in enumerate(company_list, 1):\n",
        "    plt.subplot(2, 2, i)\n",
        "    company['Close'].plot()\n",
        "    plt.ylabel('Closing Price')\n",
        "    plt.xlabel(None)\n",
        "    plt.title(f\"{tech_list[i - 1]}\")"
      ],
      "execution_count": 5,
      "outputs": [
        {
          "output_type": "display_data",
          "data": {
            "image/png": "[encoded data removed]",
            "text/plain": [
              "<Figure size 864x576 with 4 Axes>"
            ]
          },
          "metadata": {
            "tags": [],
            "needs_background": "light"
          }
        }
      ]
    },
    {
      "cell_type": "code",
      "metadata": {
        "id": "wC80gOy_T6IM",
        "outputId": "159b1416-4787-402e-8483-b3726a34632d",
        "colab": {
          "base_uri": "https://localhost:8080/",
          "height": 34
        }
      },
      "source": [
        "## predict AAPL Price\n",
        "\n",
        "data = AAPL.filter(['Close'])\n",
        "dataset = data.values\n",
        "training_data_len = int(np.ceil( len(dataset) * .8 ))\n",
        "training_data_len"
      ],
      "execution_count": 6,
      "outputs": [
        {
          "output_type": "execute_result",
          "data": {
            "text/plain": [
              "1008"
            ]
          },
          "metadata": {
            "tags": []
          },
          "execution_count": 6
        }
      ]
    },
    {
      "cell_type": "code",
      "metadata": {
        "id": "oJSUD9I6UENn",
        "outputId": "bd80348d-a0f2-4c85-d2ea-d1027a6e5d70",
        "colab": {
          "base_uri": "https://localhost:8080/",
          "height": 136
        }
      },
      "source": [
        "from sklearn.preprocessing import MinMaxScaler\n",
        "\n",
        "scaler = MinMaxScaler(feature_range=(0,1))\n",
        "scaled_aapl = scaler.fit_transform(dataset)\n",
        "scaled_aapl"
      ],
      "execution_count": 7,
      "outputs": [
        {
          "output_type": "execute_result",
          "data": {
            "text/plain": [
              "array([[0.05587169],\n",
              "       [0.05423632],\n",
              "       [0.06481026],\n",
              "       ...,\n",
              "       [0.8448856 ],\n",
              "       [0.83484929],\n",
              "       [0.828487  ]])"
            ]
          },
          "metadata": {
            "tags": []
          },
          "execution_count": 7
        }
      ]
    },
    {
      "cell_type": "code",
      "metadata": {
        "id": "DX7XyqLQUFoE",
        "outputId": "37d3a9d9-b48f-40e5-94ae-b79979a68519",
        "colab": {
          "base_uri": "https://localhost:8080/",
          "height": 34
        }
      },
      "source": [
        "#create train data set\n",
        "train_data = scaled_aapl[0:int(training_data_len), :]\n",
        "aapl_x_train = []\n",
        "aapl_y_train = []\n",
        "\n",
        "for i in range(60, len(train_data)):\n",
        "    aapl_x_train.append(train_data[i-60:i, 0])\n",
        "    aapl_y_train.append(train_data[i, 0])\n",
        "# Convert the x_train and y_train to numpy arrays \n",
        "aapl_x_train, aapl_y_train = np.array(aapl_x_train), np.array(aapl_y_train)\n",
        "#Reshape the data\n",
        "aapl_x_train = np.reshape(aapl_x_train, (aapl_x_train.shape[0], aapl_x_train.shape[1], 1))\n",
        "print(aapl_x_train.shape, aapl_y_train.shape)"
      ],
      "execution_count": 8,
      "outputs": [
        {
          "output_type": "stream",
          "text": [
            "(948, 60, 1) (948,)\n"
          ],
          "name": "stdout"
        }
      ]
    },
    {
      "cell_type": "code",
      "metadata": {
        "id": "5jaW4qpBUQLB"
      },
      "source": [
        "import re\n",
        "import tensorflow as tf\n",
        "from sklearn.preprocessing  import StandardScaler,MinMaxScaler\n",
        "from keras.models import Sequential\n",
        "from keras.layers import Dense\n",
        "from keras.layers import LSTM\n",
        "from keras.layers import Dropout\n",
        "import matplotlib.pyplot as plt"
      ],
      "execution_count": 9,
      "outputs": []
    },
    {
      "cell_type": "code",
      "metadata": {
        "id": "_srJGwlcUTDI",
        "outputId": "7fc141e6-b0d3-4038-a20f-4c4fd3188c4c",
        "colab": {
          "base_uri": "https://localhost:8080/",
          "height": 374
        }
      },
      "source": [
        "# RNN\n",
        "regressor = Sequential()\n",
        "\n",
        "# Adding a LSTM layer and some Dropout regularisation\n",
        "regressor.add(LSTM(units = 60, activation = 'tanh', return_sequences = True, input_shape = (aapl_x_train.shape[1], 1)))\n",
        "regressor.add(Dropout(0.5))\n",
        "\n",
        "# Adding a second LSTM layer and some Dropout regularisation\n",
        "regressor.add(LSTM(units = 60, activation = 'tanh', return_sequences = True))\n",
        "regressor.add(Dropout(0.3))\n",
        "\n",
        "# Adding a third LSTM layer and some Dropout regularisation\n",
        "regressor.add(LSTM(units = 80,activation = 'tanh', return_sequences = True))\n",
        "regressor.add(Dropout(0.2))\n",
        "\n",
        "# Adding a fourth LSTM layer and some Dropout regularisation\n",
        "regressor.add(LSTM(units = 80, activation = 'tanh'))\n",
        "regressor.add(Dropout(0.2))\n",
        " \n",
        "# Adding the output layer\n",
        "regressor.add(Dense(units = 1))\n",
        "\n",
        "# Compiling the RNN\n",
        "regressor.compile(optimizer = 'adam', loss = 'mean_squared_error')\n",
        "\n",
        "# Fitting the RNN to the Training set\n",
        "regressor.fit(aapl_x_train, aapl_y_train, epochs = 10, batch_size = 6)"
      ],
      "execution_count": 10,
      "outputs": [
        {
          "output_type": "stream",
          "text": [
            "Epoch 1/10\n",
            "158/158 [==============================] - 11s 66ms/step - loss: 0.0018\n",
            "Epoch 2/10\n",
            "158/158 [==============================] - 10s 66ms/step - loss: 6.4809e-04\n",
            "Epoch 3/10\n",
            "158/158 [==============================] - 10s 66ms/step - loss: 6.0643e-04\n",
            "Epoch 4/10\n",
            "158/158 [==============================] - 11s 67ms/step - loss: 4.7682e-04\n",
            "Epoch 5/10\n",
            "158/158 [==============================] - 11s 67ms/step - loss: 4.4522e-04\n",
            "Epoch 6/10\n",
            "158/158 [==============================] - 10s 66ms/step - loss: 4.3215e-04\n",
            "Epoch 7/10\n",
            "158/158 [==============================] - 14s 87ms/step - loss: 6.6410e-04\n",
            "Epoch 8/10\n",
            "158/158 [==============================] - 11s 72ms/step - loss: 3.3494e-04\n",
            "Epoch 9/10\n",
            "158/158 [==============================] - 11s 69ms/step - loss: 3.9193e-04\n",
            "Epoch 10/10\n",
            "158/158 [==============================] - 11s 68ms/step - loss: 3.4857e-04\n"
          ],
          "name": "stdout"
        },
        {
          "output_type": "execute_result",
          "data": {
            "text/plain": [
              "<tensorflow.python.keras.callbacks.History at 0x7f14dc9c3d68>"
            ]
          },
          "metadata": {
            "tags": []
          },
          "execution_count": 10
        }
      ]
    },
    {
      "cell_type": "code",
      "metadata": {
        "id": "m2FddOzdUvYL",
        "outputId": "6ba38047-9e7b-428c-aa30-2dd3e24c3257",
        "colab": {
          "base_uri": "https://localhost:8080/",
          "height": 459
        }
      },
      "source": [
        "regressor.summary()"
      ],
      "execution_count": 12,
      "outputs": [
        {
          "output_type": "stream",
          "text": [
            "Model: \"sequential\"\n",
            "_________________________________________________________________\n",
            "Layer (type)                 Output Shape              Param #   \n",
            "=================================================================\n",
            "lstm (LSTM)                  (None, 60, 60)            14880     \n",
            "_________________________________________________________________\n",
            "dropout (Dropout)            (None, 60, 60)            0         \n",
            "_________________________________________________________________\n",
            "lstm_1 (LSTM)                (None, 60, 60)            29040     \n",
            "_________________________________________________________________\n",
            "dropout_1 (Dropout)          (None, 60, 60)            0         \n",
            "_________________________________________________________________\n",
            "lstm_2 (LSTM)                (None, 60, 80)            45120     \n",
            "_________________________________________________________________\n",
            "dropout_2 (Dropout)          (None, 60, 80)            0         \n",
            "_________________________________________________________________\n",
            "lstm_3 (LSTM)                (None, 80)                51520     \n",
            "_________________________________________________________________\n",
            "dropout_3 (Dropout)          (None, 80)                0         \n",
            "_________________________________________________________________\n",
            "dense (Dense)                (None, 1)                 81        \n",
            "=================================================================\n",
            "Total params: 140,641\n",
            "Trainable params: 140,641\n",
            "Non-trainable params: 0\n",
            "_________________________________________________________________\n"
          ],
          "name": "stdout"
        }
      ]
    }
  ]
}
